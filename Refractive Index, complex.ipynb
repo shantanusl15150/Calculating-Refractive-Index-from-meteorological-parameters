{
 "cells": [
  {
   "cell_type": "code",
   "execution_count": 3,
   "metadata": {},
   "outputs": [
    {
     "name": "stdout",
     "output_type": "stream",
     "text": [
      "Enter temperature in celsius27\n",
      "Enter pressure in pascals101325\n",
      "ENter Relative Humidity in percentage88\n",
      "Enter CO2 concentration in micromole per mole50\n",
      "1.0002616288844666\n"
     ]
    }
   ],
   "source": [
    "import numpy as np\n",
    "t = int(input('Enter temperature in celsius'))\n",
    "p = int(input('Enter pressure in pascals'))\n",
    "RH = int(input('ENter Relative Humidity in percentage'))\n",
    "x_CO2 = int(input('Enter CO2 concentration in micromole per mole'))\n",
    "T = t + 273.15\n",
    "K_1 = 1.16705214528E+03\n",
    "K_2 = -7.24213167032E+05\n",
    "K_3 = -1.70738469401E+01\n",
    "K_4 = 1.20208247025E+04\n",
    "K_5 = -3.23255503223E+06\n",
    "K_6 = 1.49151086135E+01\n",
    "K_7 = -4.82326573616E+03\n",
    "K_8 = 4.05113405421E+05\n",
    "K_9 = -2.38555575678E-01\n",
    "K_10 = 6.50175348448E+02\n",
    "omega = (T + (K_9/(T-K_10)))\n",
    "A = ((omega*omega) + (K_1*omega) + K_2)\n",
    "B = ((K_3*omega*omega) + (K_4*omega) + K_5)\n",
    "C = ((K_6*omega*omega) + (K_7*omega) + K_8)\n",
    "X = ((-B) + (pow((B*B) - 4*A*C, 0.5)))\n",
    "p_sv = ((pow(10, 6))*(pow(2*C/X, 4)))\n",
    "alpha = 0.00062\n",
    "beta = 3.14E-08\n",
    "gamma = 5.6E-07\n",
    "f = ((alpha) + (beta*p) + (gamma*t*t))\n",
    "x_v = (RH/100)*f*p_sv/p\n",
    "w_0 = 295.235\n",
    "w_1 = 2.6422\n",
    "w_2 = -0.03238\n",
    "w_3 = 0.004028\n",
    "k_0 = 238.0185\n",
    "k_1 = 5792105\n",
    "k_2 = 57.362\n",
    "k_3 = 167917\n",
    "a_0 = 1.58123E-06\n",
    "a_1 = -2.9331E-08\n",
    "a_2 = 1.1043E-10\n",
    "b_0 = 5.707E-6\n",
    "b_1 = -2.051E-08\n",
    "c_0 = 1.9898E-04\n",
    "c_1 = -2.376E-06\n",
    "d = 1.83E-11\n",
    "e = -0.765E-08\n",
    "p_R1 = 101325\n",
    "T_R1 = 288.15\n",
    "Z_a = 0.9995922115\n",
    "rho_vs = 0.00985938\n",
    "R = 8.314472\n",
    "M_v = 0.018015\n",
    "lambdaa = 633\n",
    "S = 1/lambdaa/lambdaa\n",
    "r_as = 1/100000000*(((k_1)/(k_0 - S)) + ((k_3)/(k_2 - S)))\n",
    "r_vs = 1.022E-08*((w_0) + (w_1*S) + (w_2*S*S) + (w_3*S*S*S))\n",
    "M_a = ((0.0289635) + (1.2011E-08)*(x_CO2 - 400))\n",
    "r_axs = r_as*((1) + ((5.4E-07)*(x_CO2 - 450)))\n",
    "Z_m = ((1) - ((p/T)*((a_0) + (a_1*t) + (a_2*t*t) + (((b_0) + (b_1*t))*x_v) + (((c_0) + (c_1*t))*x_v*x_v))) + ((p*p/T/T)*((d) + (e*x_v*x_v))))\n",
    "rho_axs = ((p_R1)*(M_a)/(Z_a)/R/(T_R1))\n",
    "rho_v = ((x_v)*(p)*(M_v)/(Z_m)/R/T)\n",
    "rho_a = ((1 - x_v)*p*M_a/Z_m/R/T)\n",
    "n = ((1) + ((rho_a/rho_axs)*r_axs) + ((rho_v/rho_vs)*r_vs))\n",
    "print(n)"
   ]
  },
  {
   "cell_type": "code",
   "execution_count": 2,
   "metadata": {},
   "outputs": [
    {
     "name": "stdout",
     "output_type": "stream",
     "text": [
      "3.14\n"
     ]
    }
   ],
   "source": []
  },
  {
   "cell_type": "code",
   "execution_count": null,
   "metadata": {
    "collapsed": true
   },
   "outputs": [],
   "source": []
  }
 ],
 "metadata": {
  "kernelspec": {
   "display_name": "Python 3",
   "language": "python",
   "name": "python3"
  },
  "language_info": {
   "codemirror_mode": {
    "name": "ipython",
    "version": 3
   },
   "file_extension": ".py",
   "mimetype": "text/x-python",
   "name": "python",
   "nbconvert_exporter": "python",
   "pygments_lexer": "ipython3",
   "version": "3.7.6"
  }
 },
 "nbformat": 4,
 "nbformat_minor": 2
}
